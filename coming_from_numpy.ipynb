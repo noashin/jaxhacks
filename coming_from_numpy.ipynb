{
 "cells": [
  {
   "cell_type": "code",
   "execution_count": 21,
   "metadata": {},
   "outputs": [],
   "source": [
    "import jax.numpy as jnp\n",
    "from jax import random\n",
    "from jax.ops import index_update, index\n",
    "\n",
    "import numpy as onp"
   ]
  },
  {
   "cell_type": "markdown",
   "metadata": {},
   "source": [
    "### Random number"
   ]
  },
  {
   "cell_type": "markdown",
   "metadata": {},
   "source": [
    "#### numpy"
   ]
  },
  {
   "cell_type": "code",
   "execution_count": 5,
   "metadata": {},
   "outputs": [
    {
     "name": "stdout",
     "output_type": "stream",
     "text": [
      "[ 0.09667267  0.17273252 -1.16061102]\n"
     ]
    }
   ],
   "source": [
    "my_normal_rvs = onp.random.randn(3)\n",
    "print(a)"
   ]
  },
  {
   "cell_type": "markdown",
   "metadata": {},
   "source": [
    "#### jax\n",
    "[reference](https://jax.readthedocs.io/en/latest/jax.random.html)"
   ]
  },
  {
   "cell_type": "markdown",
   "metadata": {},
   "source": [
    "jax say they want to ensure reproducibility, and they quote some ppl about it. Basically it means that you must pick a seed before you can generate a random number."
   ]
  },
  {
   "cell_type": "code",
   "execution_count": 16,
   "metadata": {},
   "outputs": [
    {
     "name": "stdout",
     "output_type": "stream",
     "text": [
      "[-0.8578604  -2.6740353   0.34355766]\n"
     ]
    }
   ],
   "source": [
    "seed = 4839\n",
    "key = random.PRNGKey(seed)\n",
    "# my_normal_rvs = random.normal(seed, 3) - that won't work, as the shape must be iterable\n",
    "my_normal_rvs = random.normal(key, [3])\n",
    "print(my_normal_rvs)"
   ]
  },
  {
   "cell_type": "markdown",
   "metadata": {},
   "source": [
    "### Filling arrays, or updating arrays in place"
   ]
  },
  {
   "cell_type": "markdown",
   "metadata": {},
   "source": [
    "#### numpy"
   ]
  },
  {
   "cell_type": "code",
   "execution_count": 19,
   "metadata": {},
   "outputs": [],
   "source": [
    "i = 5\n",
    "j = 4\n",
    "n = 8\n",
    "my_array_of_zeros = onp.zeros((n,n))\n",
    "my_array_of_zeros[i,j] = n"
   ]
  },
  {
   "cell_type": "code",
   "execution_count": null,
   "metadata": {},
   "outputs": [],
   "source": [
    "# Another example\n",
    "an_array = onp.arange(0, 10, 1)\n",
    "an_array[:]"
   ]
  },
  {
   "cell_type": "markdown",
   "metadata": {},
   "source": [
    "#### jax"
   ]
  },
  {
   "cell_type": "code",
   "execution_count": 24,
   "metadata": {},
   "outputs": [],
   "source": [
    "my_array_of_zeros = jnp.zeros((n,n))\n",
    "# my_array_of_zeros[i,j] = n  - that wont work\n",
    "my_array_of_zeros = index_update(my_array_of_zeros, index[i, j], n)"
   ]
  },
  {
   "cell_type": "code",
   "execution_count": null,
   "metadata": {},
   "outputs": [],
   "source": []
  }
 ],
 "metadata": {
  "kernelspec": {
   "display_name": "Python 3",
   "language": "python",
   "name": "python3"
  },
  "language_info": {
   "codemirror_mode": {
    "name": "ipython",
    "version": 3
   },
   "file_extension": ".py",
   "mimetype": "text/x-python",
   "name": "python",
   "nbconvert_exporter": "python",
   "pygments_lexer": "ipython3",
   "version": "3.7.6"
  }
 },
 "nbformat": 4,
 "nbformat_minor": 4
}
