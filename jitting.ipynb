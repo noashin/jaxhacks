{
 "cells": [
  {
   "cell_type": "markdown",
   "metadata": {},
   "source": [
    "Well, I guess you use jax not just for fun but to actually make your code faster. \n",
    "The way to do it is to jit around your functions, but obviously it is not always as easy as one would like."
   ]
  },
  {
   "cell_type": "code",
   "execution_count": 5,
   "metadata": {},
   "outputs": [],
   "source": [
    "import jax.numpy as jnp\n",
    "from jax import random, jit\n",
    "from jax.ops import index_update, index\n",
    "\n",
    "import numpy as onp"
   ]
  },
  {
   "cell_type": "markdown",
   "metadata": {},
   "source": [
    "#### Slicing and jitting"
   ]
  },
  {
   "cell_type": "code",
   "execution_count": 18,
   "metadata": {},
   "outputs": [],
   "source": [
    "# This is the same example where jit didnt like inplace assignment, so we had a work around\n",
    "def neg_part_of_the_array(n):\n",
    "    an_array = jnp.arange(0, 10, 1)\n",
    "    # an_array[:n] *= -1 - jax does not like item assignment\n",
    "    an_array = jnp.append(an_array[:n], -1 * an_array[n:])\n",
    "    return an_array"
   ]
  },
  {
   "cell_type": "code",
   "execution_count": 25,
   "metadata": {},
   "outputs": [
    {
     "name": "stdout",
     "output_type": "stream",
     "text": [
      "[ 0  1  2 -3 -4 -5 -6 -7 -8 -9]\n"
     ]
    }
   ],
   "source": [
    "my_array = neg_part_of_the_array(3)\n",
    "print(my_array)"
   ]
  },
  {
   "cell_type": "markdown",
   "metadata": {},
   "source": [
    "One would like to jit it but, nope."
   ]
  },
  {
   "cell_type": "markdown",
   "metadata": {},
   "source": [
    "neg_part_of_the_array_jit = jit(neg_part_of_the_array)\n",
    "\n",
    "my_array_jit = neg_part_of_the_array_jit(3)"
   ]
  },
  {
   "cell_type": "code",
   "execution_count": 22,
   "metadata": {},
   "outputs": [],
   "source": [
    "def a_work_around(n):\n",
    "    an_array = jnp.arange(0, 10, 1)\n",
    "    m = an_array.shape[0] - n\n",
    "    my_ones = jnp.append(jnp.ones([n]), - 1 * jnp.ones([m]), axis = 0)\n",
    "    \n",
    "    return my_ones * an_array"
   ]
  },
  {
   "cell_type": "code",
   "execution_count": 24,
   "metadata": {},
   "outputs": [
    {
     "name": "stdout",
     "output_type": "stream",
     "text": [
      "[ 0.  1.  2. -3. -4. -5. -6. -7. -8. -9.]\n"
     ]
    }
   ],
   "source": [
    "my_array_work_around = a_work_around(3)\n",
    "print(my_array_work_around)"
   ]
  },
  {
   "cell_type": "markdown",
   "metadata": {},
   "source": [
    "can we jit it now?"
   ]
  },
  {
   "cell_type": "markdown",
   "metadata": {},
   "source": [
    "a_work_around_jit = jit(a_work_around)\n",
    "\n",
    "my_array_work_around_jit = a_work_around_jit(3)"
   ]
  },
  {
   "cell_type": "code",
   "execution_count": 33,
   "metadata": {},
   "outputs": [],
   "source": [
    "# Not so fast... We need to jit it with static_argnums\n",
    "a_work_around_jit = jit(a_work_around, static_argnums=0)"
   ]
  },
  {
   "cell_type": "code",
   "execution_count": 35,
   "metadata": {},
   "outputs": [
    {
     "name": "stdout",
     "output_type": "stream",
     "text": [
      "[ 0.  1.  2. -3. -4. -5. -6. -7. -8. -9.]\n"
     ]
    }
   ],
   "source": [
    "my_array_work_around = a_work_around_jit(3)\n",
    "print(my_array_work_around)"
   ]
  },
  {
   "cell_type": "markdown",
   "metadata": {},
   "source": [
    "#### Index conditioning and jitting"
   ]
  },
  {
   "cell_type": "code",
   "execution_count": 38,
   "metadata": {},
   "outputs": [],
   "source": [
    "def bigger_than_zero(arr):\n",
    "    return arr[jnp.where(arr > 0)]"
   ]
  },
  {
   "cell_type": "code",
   "execution_count": 39,
   "metadata": {},
   "outputs": [
    {
     "name": "stdout",
     "output_type": "stream",
     "text": [
      "[ 1 -1  2 -2]\n"
     ]
    }
   ],
   "source": [
    "arr = jnp.array([1,-1,2,-2])\n",
    "arr_positive = bigger_than_zero(arr)\n",
    "print(arr)"
   ]
  },
  {
   "cell_type": "markdown",
   "metadata": {},
   "source": [
    "Can we jit it?"
   ]
  },
  {
   "cell_type": "markdown",
   "metadata": {},
   "source": [
    "bigger_than_zero_jit = jit(bigger_than_zero)\n",
    "\n",
    "arr_positive_jit = bigger_than_zero_jit(arr)"
   ]
  },
  {
   "cell_type": "code",
   "execution_count": 42,
   "metadata": {},
   "outputs": [],
   "source": [
    "# of course not! jax really doesnt like boolean indexing when jiting.\n",
    "\n",
    "def bigger_than_zero_that_will_jit(arr):\n",
    "    my_nans = jnp.nan * jnp.ones(arr.shape)\n",
    "    return jnp.where(arr > 0, arr, my_nans)"
   ]
  },
  {
   "cell_type": "code",
   "execution_count": 43,
   "metadata": {},
   "outputs": [],
   "source": [
    "bigger_than_zero_that_will_jit_jit = jit(bigger_than_zero_that_will_jit)"
   ]
  },
  {
   "cell_type": "code",
   "execution_count": 45,
   "metadata": {},
   "outputs": [
    {
     "name": "stdout",
     "output_type": "stream",
     "text": [
      "[ 1. nan  2. nan]\n"
     ]
    }
   ],
   "source": [
    "arr_positive_jit = bigger_than_zero_that_will_jit_jit(arr)\n",
    "print(arr_positive_jit)"
   ]
  },
  {
   "cell_type": "markdown",
   "metadata": {},
   "source": [
    "As you can see, if you wanna jit you must make sure your array preserves its shape. You can put inf/zeros/nans to mark the indices you dont want or any other value that makes sense for the computation you wanna do later.\n",
    "For example, if you wanna sum the array putting 0s instead of the indices you wanna filter out makes sense."
   ]
  },
  {
   "cell_type": "code",
   "execution_count": null,
   "metadata": {},
   "outputs": [],
   "source": []
  }
 ],
 "metadata": {
  "kernelspec": {
   "display_name": "Python 3",
   "language": "python",
   "name": "python3"
  },
  "language_info": {
   "codemirror_mode": {
    "name": "ipython",
    "version": 3
   },
   "file_extension": ".py",
   "mimetype": "text/x-python",
   "name": "python",
   "nbconvert_exporter": "python",
   "pygments_lexer": "ipython3",
   "version": "3.7.6"
  }
 },
 "nbformat": 4,
 "nbformat_minor": 4
}
